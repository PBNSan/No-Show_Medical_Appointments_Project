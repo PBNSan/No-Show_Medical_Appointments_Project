{
 "cells": [
  {
   "cell_type": "markdown",
   "metadata": {
    "_cell_guid": "93c948e5-b74a-432f-85e9-a0a023f40269",
    "_uuid": "19ba2adac3a7c76c88a45548431e1780334e68fb"
   },
   "source": [
    "**Importing Libraries**"
   ]
  },
  {
   "cell_type": "markdown",
   "metadata": {
    "_cell_guid": "05aeb518-a396-49bb-a75e-b15a24f53c06",
    "_uuid": "0a3fce4668834317ff14b55f899bf3006b4868fc"
   },
   "source": [
    "We are going to examine the No-Show appointments dataset. A few questions that we are examining today are:\n",
    "\n",
    "1) Which neighbourhood had the highest amount of no-shows?\n",
    "2)Which neighbourhood had the least amount of no-shows?\n",
    "\n",
    "\n",
    "Scholarship:\n",
    "\n",
    "1)Does scholarship have an impact on the no-show\n",
    "2)What percent of ppl having scholarship do not show up for the appoinmtents\n",
    "3What percent of ppl not having scholarship do not show up for the appointments\n",
    "\n",
    "\n",
    "Appointment -scheduled also make it into categorical variable"
   ]
  },
  {
   "cell_type": "code",
   "execution_count": 1,
   "metadata": {
    "_cell_guid": "410c6bd9-29cc-49a1-a748-d4e32119038f",
    "_uuid": "ff31b64584c7c21e665519596adbad27f18c54d8",
    "collapsed": true
   },
   "outputs": [],
   "source": [
    "# Importing all necessary libraries\n",
    "import pandas as pd\n",
    "import numpy as np"
   ]
  },
  {
   "cell_type": "markdown",
   "metadata": {
    "_cell_guid": "bb330b9c-565b-42e2-b1ad-060f62b71732",
    "_uuid": "f2c62a9e1f999e1e7943ffc66afd628fe2fd1b6a"
   },
   "source": [
    "**Reading Data**"
   ]
  },
  {
   "cell_type": "code",
   "execution_count": 2,
   "metadata": {
    "_cell_guid": "b263c6a5-3047-4886-b522-6739ef4ce9aa",
    "_uuid": "39ceb2b12cd14b819153fb6d5e44a34f580b263f"
   },
   "outputs": [
    {
     "ename": "FileNotFoundError",
     "evalue": "File b'../input/KaggleV2-May-2016.csv' does not exist",
     "output_type": "error",
     "traceback": [
      "\u001b[0;31m---------------------------------------------------------------------------\u001b[0m",
      "\u001b[0;31mFileNotFoundError\u001b[0m                         Traceback (most recent call last)",
      "\u001b[0;32m<ipython-input-2-25acc4c11b7a>\u001b[0m in \u001b[0;36m<module>\u001b[0;34m()\u001b[0m\n\u001b[1;32m      1\u001b[0m \u001b[0;31m# Reading the Input files\u001b[0m\u001b[0;34m\u001b[0m\u001b[0;34m\u001b[0m\u001b[0m\n\u001b[0;32m----> 2\u001b[0;31m \u001b[0mdf\u001b[0m  \u001b[0;34m=\u001b[0m \u001b[0mpd\u001b[0m\u001b[0;34m.\u001b[0m\u001b[0mread_csv\u001b[0m\u001b[0;34m(\u001b[0m\u001b[0;34m'../input/KaggleV2-May-2016.csv'\u001b[0m\u001b[0;34m)\u001b[0m\u001b[0;34m\u001b[0m\u001b[0m\n\u001b[0m",
      "\u001b[0;32m~/anaconda3/lib/python3.6/site-packages/pandas/io/parsers.py\u001b[0m in \u001b[0;36mparser_f\u001b[0;34m(filepath_or_buffer, sep, delimiter, header, names, index_col, usecols, squeeze, prefix, mangle_dupe_cols, dtype, engine, converters, true_values, false_values, skipinitialspace, skiprows, nrows, na_values, keep_default_na, na_filter, verbose, skip_blank_lines, parse_dates, infer_datetime_format, keep_date_col, date_parser, dayfirst, iterator, chunksize, compression, thousands, decimal, lineterminator, quotechar, quoting, escapechar, comment, encoding, dialect, tupleize_cols, error_bad_lines, warn_bad_lines, skipfooter, skip_footer, doublequote, delim_whitespace, as_recarray, compact_ints, use_unsigned, low_memory, buffer_lines, memory_map, float_precision)\u001b[0m\n\u001b[1;32m    653\u001b[0m                     skip_blank_lines=skip_blank_lines)\n\u001b[1;32m    654\u001b[0m \u001b[0;34m\u001b[0m\u001b[0m\n\u001b[0;32m--> 655\u001b[0;31m         \u001b[0;32mreturn\u001b[0m \u001b[0m_read\u001b[0m\u001b[0;34m(\u001b[0m\u001b[0mfilepath_or_buffer\u001b[0m\u001b[0;34m,\u001b[0m \u001b[0mkwds\u001b[0m\u001b[0;34m)\u001b[0m\u001b[0;34m\u001b[0m\u001b[0m\n\u001b[0m\u001b[1;32m    656\u001b[0m \u001b[0;34m\u001b[0m\u001b[0m\n\u001b[1;32m    657\u001b[0m     \u001b[0mparser_f\u001b[0m\u001b[0;34m.\u001b[0m\u001b[0m__name__\u001b[0m \u001b[0;34m=\u001b[0m \u001b[0mname\u001b[0m\u001b[0;34m\u001b[0m\u001b[0m\n",
      "\u001b[0;32m~/anaconda3/lib/python3.6/site-packages/pandas/io/parsers.py\u001b[0m in \u001b[0;36m_read\u001b[0;34m(filepath_or_buffer, kwds)\u001b[0m\n\u001b[1;32m    403\u001b[0m \u001b[0;34m\u001b[0m\u001b[0m\n\u001b[1;32m    404\u001b[0m     \u001b[0;31m# Create the parser.\u001b[0m\u001b[0;34m\u001b[0m\u001b[0;34m\u001b[0m\u001b[0m\n\u001b[0;32m--> 405\u001b[0;31m     \u001b[0mparser\u001b[0m \u001b[0;34m=\u001b[0m \u001b[0mTextFileReader\u001b[0m\u001b[0;34m(\u001b[0m\u001b[0mfilepath_or_buffer\u001b[0m\u001b[0;34m,\u001b[0m \u001b[0;34m**\u001b[0m\u001b[0mkwds\u001b[0m\u001b[0;34m)\u001b[0m\u001b[0;34m\u001b[0m\u001b[0m\n\u001b[0m\u001b[1;32m    406\u001b[0m \u001b[0;34m\u001b[0m\u001b[0m\n\u001b[1;32m    407\u001b[0m     \u001b[0;32mif\u001b[0m \u001b[0mchunksize\u001b[0m \u001b[0;32mor\u001b[0m \u001b[0miterator\u001b[0m\u001b[0;34m:\u001b[0m\u001b[0;34m\u001b[0m\u001b[0m\n",
      "\u001b[0;32m~/anaconda3/lib/python3.6/site-packages/pandas/io/parsers.py\u001b[0m in \u001b[0;36m__init__\u001b[0;34m(self, f, engine, **kwds)\u001b[0m\n\u001b[1;32m    762\u001b[0m             \u001b[0mself\u001b[0m\u001b[0;34m.\u001b[0m\u001b[0moptions\u001b[0m\u001b[0;34m[\u001b[0m\u001b[0;34m'has_index_names'\u001b[0m\u001b[0;34m]\u001b[0m \u001b[0;34m=\u001b[0m \u001b[0mkwds\u001b[0m\u001b[0;34m[\u001b[0m\u001b[0;34m'has_index_names'\u001b[0m\u001b[0;34m]\u001b[0m\u001b[0;34m\u001b[0m\u001b[0m\n\u001b[1;32m    763\u001b[0m \u001b[0;34m\u001b[0m\u001b[0m\n\u001b[0;32m--> 764\u001b[0;31m         \u001b[0mself\u001b[0m\u001b[0;34m.\u001b[0m\u001b[0m_make_engine\u001b[0m\u001b[0;34m(\u001b[0m\u001b[0mself\u001b[0m\u001b[0;34m.\u001b[0m\u001b[0mengine\u001b[0m\u001b[0;34m)\u001b[0m\u001b[0;34m\u001b[0m\u001b[0m\n\u001b[0m\u001b[1;32m    765\u001b[0m \u001b[0;34m\u001b[0m\u001b[0m\n\u001b[1;32m    766\u001b[0m     \u001b[0;32mdef\u001b[0m \u001b[0mclose\u001b[0m\u001b[0;34m(\u001b[0m\u001b[0mself\u001b[0m\u001b[0;34m)\u001b[0m\u001b[0;34m:\u001b[0m\u001b[0;34m\u001b[0m\u001b[0m\n",
      "\u001b[0;32m~/anaconda3/lib/python3.6/site-packages/pandas/io/parsers.py\u001b[0m in \u001b[0;36m_make_engine\u001b[0;34m(self, engine)\u001b[0m\n\u001b[1;32m    983\u001b[0m     \u001b[0;32mdef\u001b[0m \u001b[0m_make_engine\u001b[0m\u001b[0;34m(\u001b[0m\u001b[0mself\u001b[0m\u001b[0;34m,\u001b[0m \u001b[0mengine\u001b[0m\u001b[0;34m=\u001b[0m\u001b[0;34m'c'\u001b[0m\u001b[0;34m)\u001b[0m\u001b[0;34m:\u001b[0m\u001b[0;34m\u001b[0m\u001b[0m\n\u001b[1;32m    984\u001b[0m         \u001b[0;32mif\u001b[0m \u001b[0mengine\u001b[0m \u001b[0;34m==\u001b[0m \u001b[0;34m'c'\u001b[0m\u001b[0;34m:\u001b[0m\u001b[0;34m\u001b[0m\u001b[0m\n\u001b[0;32m--> 985\u001b[0;31m             \u001b[0mself\u001b[0m\u001b[0;34m.\u001b[0m\u001b[0m_engine\u001b[0m \u001b[0;34m=\u001b[0m \u001b[0mCParserWrapper\u001b[0m\u001b[0;34m(\u001b[0m\u001b[0mself\u001b[0m\u001b[0;34m.\u001b[0m\u001b[0mf\u001b[0m\u001b[0;34m,\u001b[0m \u001b[0;34m**\u001b[0m\u001b[0mself\u001b[0m\u001b[0;34m.\u001b[0m\u001b[0moptions\u001b[0m\u001b[0;34m)\u001b[0m\u001b[0;34m\u001b[0m\u001b[0m\n\u001b[0m\u001b[1;32m    986\u001b[0m         \u001b[0;32melse\u001b[0m\u001b[0;34m:\u001b[0m\u001b[0;34m\u001b[0m\u001b[0m\n\u001b[1;32m    987\u001b[0m             \u001b[0;32mif\u001b[0m \u001b[0mengine\u001b[0m \u001b[0;34m==\u001b[0m \u001b[0;34m'python'\u001b[0m\u001b[0;34m:\u001b[0m\u001b[0;34m\u001b[0m\u001b[0m\n",
      "\u001b[0;32m~/anaconda3/lib/python3.6/site-packages/pandas/io/parsers.py\u001b[0m in \u001b[0;36m__init__\u001b[0;34m(self, src, **kwds)\u001b[0m\n\u001b[1;32m   1603\u001b[0m         \u001b[0mkwds\u001b[0m\u001b[0;34m[\u001b[0m\u001b[0;34m'allow_leading_cols'\u001b[0m\u001b[0;34m]\u001b[0m \u001b[0;34m=\u001b[0m \u001b[0mself\u001b[0m\u001b[0;34m.\u001b[0m\u001b[0mindex_col\u001b[0m \u001b[0;32mis\u001b[0m \u001b[0;32mnot\u001b[0m \u001b[0;32mFalse\u001b[0m\u001b[0;34m\u001b[0m\u001b[0m\n\u001b[1;32m   1604\u001b[0m \u001b[0;34m\u001b[0m\u001b[0m\n\u001b[0;32m-> 1605\u001b[0;31m         \u001b[0mself\u001b[0m\u001b[0;34m.\u001b[0m\u001b[0m_reader\u001b[0m \u001b[0;34m=\u001b[0m \u001b[0mparsers\u001b[0m\u001b[0;34m.\u001b[0m\u001b[0mTextReader\u001b[0m\u001b[0;34m(\u001b[0m\u001b[0msrc\u001b[0m\u001b[0;34m,\u001b[0m \u001b[0;34m**\u001b[0m\u001b[0mkwds\u001b[0m\u001b[0;34m)\u001b[0m\u001b[0;34m\u001b[0m\u001b[0m\n\u001b[0m\u001b[1;32m   1606\u001b[0m \u001b[0;34m\u001b[0m\u001b[0m\n\u001b[1;32m   1607\u001b[0m         \u001b[0;31m# XXX\u001b[0m\u001b[0;34m\u001b[0m\u001b[0;34m\u001b[0m\u001b[0m\n",
      "\u001b[0;32mpandas/_libs/parsers.pyx\u001b[0m in \u001b[0;36mpandas._libs.parsers.TextReader.__cinit__ (pandas/_libs/parsers.c:4209)\u001b[0;34m()\u001b[0m\n",
      "\u001b[0;32mpandas/_libs/parsers.pyx\u001b[0m in \u001b[0;36mpandas._libs.parsers.TextReader._setup_parser_source (pandas/_libs/parsers.c:8873)\u001b[0;34m()\u001b[0m\n",
      "\u001b[0;31mFileNotFoundError\u001b[0m: File b'../input/KaggleV2-May-2016.csv' does not exist"
     ]
    }
   ],
   "source": [
    "# Reading the Input files\n",
    "df  = pd.read_csv('../input/KaggleV2-May-2016.csv')"
   ]
  },
  {
   "cell_type": "markdown",
   "metadata": {
    "_cell_guid": "7d9c740f-0a08-43b6-9d45-2a8818b3139e",
    "_uuid": "4c1da4e5a0aea708ba2f0f06d8810990dc81ef39"
   },
   "source": [
    "**Assessing Data**"
   ]
  },
  {
   "cell_type": "code",
   "execution_count": null,
   "metadata": {
    "_cell_guid": "504654b5-388c-4f62-b67d-eb8678ec8dfe",
    "_uuid": "34f1da5bbc6daba47daf07de71c5e9e87fdbc0a4"
   },
   "outputs": [],
   "source": [
    "df.info()"
   ]
  },
  {
   "cell_type": "code",
   "execution_count": null,
   "metadata": {
    "_cell_guid": "7491c56c-27e4-4f4e-a2cd-d7c739cb3266",
    "_uuid": "3a649e2fa5a3b5dfff55924a4a2f8c335a754ad7"
   },
   "outputs": [],
   "source": [
    "df.shape"
   ]
  },
  {
   "cell_type": "markdown",
   "metadata": {
    "_cell_guid": "a7288fb2-8a9a-4c0e-a76f-5342ad5a9e68",
    "_uuid": "20938cee5190a69175be9d235a2ffc936fd89846"
   },
   "source": [
    "So the DataFrame has a total of 110527 rows and 14 columns, also we can see that there are no null values in any columns too."
   ]
  },
  {
   "cell_type": "code",
   "execution_count": null,
   "metadata": {
    "_cell_guid": "7e2356c3-cbb0-4f8e-a7ae-5c608bca1760",
    "_uuid": "6d7e2e61875bffd66064fff98ccb4ae4d28f8abb"
   },
   "outputs": [],
   "source": [
    "df.columns"
   ]
  },
  {
   "cell_type": "code",
   "execution_count": null,
   "metadata": {
    "_cell_guid": "718e1565-0b4c-463d-a1ae-37fa2d0e6a1f",
    "_uuid": "5b7e34c26aaab21e2fb5debb7b383393fd9d7b5d"
   },
   "outputs": [],
   "source": [
    "sum(df.duplicated())"
   ]
  },
  {
   "cell_type": "markdown",
   "metadata": {
    "_cell_guid": "0976b274-2aca-4e2a-b68b-1fcf618eeab4",
    "_uuid": "787fa1183cb74bdb324eeb2322ee93ccff391748"
   },
   "source": [
    "There are no duplicate values in the dataframe"
   ]
  },
  {
   "cell_type": "code",
   "execution_count": null,
   "metadata": {
    "_cell_guid": "9bc87d75-a4d2-482b-9d9f-c195056b6d14",
    "_uuid": "2fa3fcbf64e929b9d27845391eff1528d189acad"
   },
   "outputs": [],
   "source": [
    "df.nunique()"
   ]
  },
  {
   "cell_type": "code",
   "execution_count": null,
   "metadata": {
    "_cell_guid": "51352bbb-2743-497b-ad29-48fd502c0e66",
    "_uuid": "8df441740762f8127b176a42bd2376db25a65bf0"
   },
   "outputs": [],
   "source": [
    "len(df[df.isnull().any(axis=1)])"
   ]
  },
  {
   "cell_type": "code",
   "execution_count": null,
   "metadata": {
    "_cell_guid": "edce7200-1f14-4e4f-a530-ec6d590a4d7d",
    "_uuid": "7f18afd22029bec85233ee3e9ecb8feaf00cf80c"
   },
   "outputs": [],
   "source": [
    "df['Scholarship'].unique()"
   ]
  },
  {
   "cell_type": "markdown",
   "metadata": {
    "_cell_guid": "1fe9dfee-687c-43aa-9f60-a75e29bfa314",
    "_uuid": "3fca27f8a0c1b9fe7a3b10eab4cf2ccee33fbfb9"
   },
   "source": [
    "**Inspecting and Fixing Data Types**"
   ]
  },
  {
   "cell_type": "code",
   "execution_count": null,
   "metadata": {
    "_cell_guid": "e39fa879-4b52-46fd-8a7c-0c4bf135a888",
    "_uuid": "6ab420f3269c3699e319929aa682e3b2789ab02b"
   },
   "outputs": [],
   "source": [
    "df.info()"
   ]
  },
  {
   "cell_type": "markdown",
   "metadata": {
    "_cell_guid": "29ba1038-de95-494e-8bef-8dcaae82fee2",
    "_uuid": "257a995af247ec7cfe1e73f7a75badb08a89ccf6"
   },
   "source": [
    "We can see PatientId is a float value, I am converting it to a Integer value as it makes more sense, and i dont expect ID to have decimal point values\n",
    "\n"
   ]
  },
  {
   "cell_type": "code",
   "execution_count": null,
   "metadata": {
    "_cell_guid": "1f281bce-250f-45bc-a291-7e8a46383cdc",
    "_uuid": "cc5e17c37f4443d47d43d4c805f6e960bcb8981d",
    "collapsed": true
   },
   "outputs": [],
   "source": [
    "df['PatientId'] =df['PatientId'].astype(int)"
   ]
  },
  {
   "cell_type": "code",
   "execution_count": null,
   "metadata": {
    "_cell_guid": "7d81e38b-7a97-483c-975f-392510874fa8",
    "_uuid": "60cdeee21506faff1dbf4a9cc11d57a6b847158a",
    "collapsed": true
   },
   "outputs": [],
   "source": [
    "df.sort_values(['PatientId'],inplace=True)"
   ]
  },
  {
   "cell_type": "markdown",
   "metadata": {
    "_cell_guid": "fe7d4680-630e-4ac5-a6bd-315764496bad",
    "_uuid": "4b40693647e31f228e20ec62e7fab3d262b1746e"
   },
   "source": [
    "Converting ScheduledDay and AppointmentDay to Datetime objects from string"
   ]
  },
  {
   "cell_type": "code",
   "execution_count": null,
   "metadata": {
    "_cell_guid": "c1621146-a74f-4d1d-9346-9111dfa0fbd8",
    "_uuid": "96a888f2ce9cdb09edbe091a4fd98909bf89143f",
    "collapsed": true
   },
   "outputs": [],
   "source": [
    "df['ScheduledDay'] = pd.to_datetime(df['ScheduledDay'])\n"
   ]
  },
  {
   "cell_type": "code",
   "execution_count": null,
   "metadata": {
    "_cell_guid": "c0806993-45aa-42d9-9cb0-aa7ac17e644e",
    "_uuid": "4d04de6f3630e7f541bc56ef78cce401602bd259",
    "collapsed": true
   },
   "outputs": [],
   "source": [
    "df['AppointmentDay'] = pd.to_datetime(df['AppointmentDay'])"
   ]
  },
  {
   "cell_type": "code",
   "execution_count": null,
   "metadata": {
    "_cell_guid": "07e81cb8-f630-41b6-ad7d-d68b47d61446",
    "_uuid": "00383b5bf9293cb28acb33a0a4cc6b1aa62b768b"
   },
   "outputs": [],
   "source": [
    "df.info()"
   ]
  },
  {
   "cell_type": "markdown",
   "metadata": {
    "_cell_guid": "89f0f9d5-4274-435e-8a52-c715d6a0b6dc",
    "_uuid": "226b2f8dc49e55161adf82ca041562a22ad4fbde"
   },
   "source": [
    "**Exploring Data**"
   ]
  },
  {
   "cell_type": "markdown",
   "metadata": {
    "_cell_guid": "08ba88e4-3345-411d-bd5b-a014f6ee1c8f",
    "_uuid": "b2c8e4798913d2d03aafa254918844d3f98b4675",
    "collapsed": true
   },
   "source": [
    "In order to aggregate data for different columns, I am going to change the No-show column values to numeric type."
   ]
  },
  {
   "cell_type": "code",
   "execution_count": null,
   "metadata": {
    "_cell_guid": "387ed887-cff9-4bb6-b9ef-2949cf31e665",
    "_uuid": "973d3a56390b66d71d8751f041a7d3f998cf23b7",
    "collapsed": true
   },
   "outputs": [],
   "source": [
    "df['No-show'].replace('Yes',1, inplace=True)\n",
    "df['No-show'].replace('No',0,inplace=True)"
   ]
  },
  {
   "cell_type": "markdown",
   "metadata": {
    "_cell_guid": "924951b2-fa02-43f8-b8b7-adbe5341e3e2",
    "_uuid": "3a189bc6f04d662254596028b176c9062ebda68c"
   },
   "source": [
    "**Effect of the Gender, Hipertension, Diabetes and Alcoholism Variables**\n",
    "\n",
    "Now, we are going to aggregate the values in the No-show column for different columns like Gender, Hipertension, diabetes, alcoholism,"
   ]
  },
  {
   "cell_type": "code",
   "execution_count": null,
   "metadata": {
    "_cell_guid": "8a05a16a-9746-4254-8012-6add0d1ef063",
    "_uuid": "8b2eac9b6d91fc75cb5d8042765d65868d90d059"
   },
   "outputs": [],
   "source": [
    "col_names = ['Gender','Hipertension','Diabetes','Alcoholism']\n",
    "\n",
    "for c in col_names:\n",
    "   print (df.groupby(c)['No-show'].mean())\n"
   ]
  },
  {
   "cell_type": "markdown",
   "metadata": {
    "_cell_guid": "62122f60-2269-451d-a49b-2e673f246d96",
    "_uuid": "9f9623293e9b3dc4b7b2eb792967ef71036b8dd8"
   },
   "source": [
    "So, in the above, we can see that about 3% of people not having Hipertension turned up more than the people having Hipertension \n",
    "Also, about 2% of people not having Diabetes, turned up to the appointments more than the ones having Diabetes.\n",
    "\n",
    "There is very less disparity in the number of people who turned up for the appointments versus the ones who didnot in terms of Gender and Alcoholism.\n",
    "So, we can safely say, Gender and Alcoholism does not have much of an impact on the No-shows\n"
   ]
  },
  {
   "cell_type": "markdown",
   "metadata": {
    "_cell_guid": "d3397037-b515-4665-a0f5-f5e887285e94",
    "_uuid": "b58dde68302c0943e7b3be0c24fa15382b7c3ad3"
   },
   "source": [
    "**Effect of Scholarship variable**"
   ]
  },
  {
   "cell_type": "markdown",
   "metadata": {
    "_cell_guid": "6362d1a2-0f02-4cb4-a006-cd28e2e7ae60",
    "_uuid": "9e77615177c91a8861d7b59a3aa1b0fb51103974"
   },
   "source": [
    "Next, we are going to check, what impact Scholarship has on the number of No-shows. \n",
    "\n",
    "1) Do people having Scholarships miss more appointments or the people who donot having Scholarship miss it the most?"
   ]
  },
  {
   "cell_type": "code",
   "execution_count": null,
   "metadata": {
    "_cell_guid": "57ebdcc0-9433-4866-acdb-fb41d1c2afcb",
    "_uuid": "efc4edc07cdc95c7bb855dc8b0d7f797de79bec8"
   },
   "outputs": [],
   "source": [
    "df.groupby('Scholarship')['No-show'].mean()"
   ]
  },
  {
   "cell_type": "markdown",
   "metadata": {
    "_cell_guid": "d96e0c4a-cfa3-4d12-b0a0-1751a06561b0",
    "_uuid": "c313d7048d370b9e3797500aad3564b392f25c75"
   },
   "source": [
    "Ok!! so we can see that the people who are enrolled in the  Brazilain welfare program, did not turn up more  than the ones who did not enroll in the scholarship  by about 4%-5%\n",
    "\n",
    "People not enrolled in scholarship, who did not showup is about 19% , whereas, people who are enrolled in the scholarship, who did not showup is about 23%\n"
   ]
  },
  {
   "cell_type": "markdown",
   "metadata": {
    "_cell_guid": "1a8144d4-d386-42e8-b424-9aef91b7b7a0",
    "_uuid": "c12b9b00a21a8846d7f15d7e83666432d2085bfe"
   },
   "source": [
    "**Effect of SMS_received variable**\n",
    "\n",
    "Next, we are going to explore,\n",
    "\n",
    "1) If people who received the SMS to remind them about the appointment, just before the appointment day made it to the appointments, better than the people who were not reminded through SMS"
   ]
  },
  {
   "cell_type": "code",
   "execution_count": null,
   "metadata": {
    "_cell_guid": "b38dc913-1cd8-4b8d-8f70-b489fc367a8f",
    "_uuid": "2197e88c1390d3bbb7bd5b48f5a1c3ba2a28e67e"
   },
   "outputs": [],
   "source": [
    "df.groupby('SMS_received')['No-show'].mean()"
   ]
  },
  {
   "cell_type": "markdown",
   "metadata": {
    "_cell_guid": "75bc7102-477e-403c-b072-a7fc9988749d",
    "_uuid": "98172fccb33a945d3148d024e2361bf76bfc9462"
   },
   "source": [
    "Ok! we can see startling numbers here, So almost, people who did not receive SMS turned up better than the people who received the SMS by almost 11%\n",
    "\n",
    "16% of people who did not receive SMS did not show up for their appointments, but 27% of people who received SMS did not show up for the appointment.\n",
    "\n",
    "So sending a SMS to remind them about their appointments, tends to have a great effect on the people turn up rate."
   ]
  },
  {
   "cell_type": "markdown",
   "metadata": {
    "_cell_guid": "62080532-9c99-4464-a83f-0c2d518a405c",
    "_uuid": "3cad46f99204e4ee879aaae94f17a0706c4d3aa9"
   },
   "source": [
    "**Effect of the Handicap variable**\n"
   ]
  },
  {
   "cell_type": "code",
   "execution_count": null,
   "metadata": {
    "_cell_guid": "3f51ca61-48d0-4e12-9667-f662f42e0c25",
    "_uuid": "0ecfbd4f085aa27100b905a9b13e7010522bf29d"
   },
   "outputs": [],
   "source": [
    "df['Handcap'].unique()"
   ]
  },
  {
   "cell_type": "code",
   "execution_count": null,
   "metadata": {
    "_cell_guid": "7abe6597-ebfe-435a-8903-af5b0e5a1a21",
    "_uuid": "43ad1730e86aa88101625d048d7625aa4332b6c1"
   },
   "outputs": [],
   "source": [
    "df.groupby('Handcap')['No-show'].mean()"
   ]
  },
  {
   "cell_type": "markdown",
   "metadata": {
    "_cell_guid": "1ae62f48-076a-4abf-b43f-b9ac558a169d",
    "_uuid": "da49a39e415193acfe798a4cb3fc1069c6586d0c"
   },
   "source": [
    "Changing Handcap into a categorical variable"
   ]
  },
  {
   "cell_type": "code",
   "execution_count": null,
   "metadata": {
    "_cell_guid": "00f94a4b-b76e-4345-b38a-4e3f3782eb9c",
    "_uuid": "e8c0cf734ca19c059ceedd472042b38d45b4b02e",
    "collapsed": true
   },
   "outputs": [],
   "source": [
    "df['Handcap'] = pd.Categorical(df['Handcap'])\n",
    "Handicap = pd.get_dummies(df['Handcap'], prefix = 'Handicap')\n",
    "df = pd.concat([df, Handicap], axis=1)"
   ]
  },
  {
   "cell_type": "code",
   "execution_count": null,
   "metadata": {
    "_cell_guid": "6dfc6c3d-fae8-4fc8-a0df-a58e83f8aa79",
    "_uuid": "79e2b80ff86d7c70f8cbf551e247a9dd4c954890"
   },
   "outputs": [],
   "source": [
    "h_var = ['Handicap_0','Handicap_1','Handicap_2','Handicap_3','Handicap_4']\n",
    "\n",
    "for h in h_var:\n",
    "    print(df.groupby(h)['No-show'].mean())\n",
    "\n"
   ]
  },
  {
   "cell_type": "markdown",
   "metadata": {
    "_cell_guid": "82755307-5b92-4eea-89a6-cbf62ed89237",
    "_uuid": "c3bdddb372ece6c6295d9927e117c8ad9cf2dadd"
   },
   "source": [
    "Here, we can see that the variable Handicap_4 has the highest effect on the number of No-shows.\n",
    "\n",
    "So people who are disabled in the category Handicap_4 are more likely to not turn up than the ones  in the other categories by almost 13%"
   ]
  },
  {
   "cell_type": "markdown",
   "metadata": {
    "_cell_guid": "476660c6-81a7-4b1c-b227-ce9e58279d82",
    "_uuid": "1cd17c41e8fc7709f4afc3178f0dcf7889298ce7"
   },
   "source": [
    "**Effect of the Neighbourhood variable**\n",
    "\n",
    "1) Which neighbourhood seems to have the most number of people missing their appointments?\n",
    "2) Which neighbourhood has the least number of people missing their appointments?"
   ]
  },
  {
   "cell_type": "code",
   "execution_count": null,
   "metadata": {
    "_cell_guid": "e176bfaa-7785-46bb-99cd-b5d90e0d2dcb",
    "_uuid": "d128608677d14b3c60659b2eaf5add4585dbc581",
    "collapsed": true
   },
   "outputs": [],
   "source": [
    "df['Neighbourhood_noshows']=  df.groupby(['Neighbourhood'])['No-show'].apply(lambda x: x.cumsum())"
   ]
  },
  {
   "cell_type": "code",
   "execution_count": null,
   "metadata": {
    "_cell_guid": "f4e7f951-a1b4-4529-8240-4ca6398d9d5e",
    "_uuid": "39309018d3a0148e324e11a576a8445f4d550c5f",
    "collapsed": true
   },
   "outputs": [],
   "source": [
    "df_max = df.loc[df['Neighbourhood_noshows'] == df['Neighbourhood_noshows'].sort_values().max()]"
   ]
  },
  {
   "cell_type": "code",
   "execution_count": null,
   "metadata": {
    "_cell_guid": "5e9e85fb-42e6-45ca-8881-0140aa45793d",
    "_uuid": "78728169cb9652c127e65d9ceb199e3043766564"
   },
   "outputs": [],
   "source": [
    "df_max['Neighbourhood'].unique()"
   ]
  },
  {
   "cell_type": "markdown",
   "metadata": {
    "_cell_guid": "26e3ae6a-39bf-4326-88ff-f5486676c355",
    "_uuid": "5d657d8c85db484283602b1fdbd0c01d2bae0d2b",
    "collapsed": true
   },
   "source": [
    "So the neighbourhood, with the highest number of No-shows is JARDIM CAMBURI with 1465 no-shows\n"
   ]
  },
  {
   "cell_type": "code",
   "execution_count": null,
   "metadata": {
    "_cell_guid": "69459bbf-4c1b-4f23-9563-98f9a97b40b2",
    "_uuid": "1959b8b3deb5a4b16562734849c88734eabe17bf",
    "collapsed": true
   },
   "outputs": [],
   "source": [
    "df_min = (df.loc[df['Neighbourhood_noshows'] == df['Neighbourhood_noshows'].sort_values().min()])"
   ]
  },
  {
   "cell_type": "code",
   "execution_count": null,
   "metadata": {
    "_cell_guid": "fbdbcf32-6fe2-421c-9fa6-20a8ecd99fdb",
    "_uuid": "5bc1b6bbdada7b03c7f34e5115515e3432f17e20"
   },
   "outputs": [],
   "source": [
    "df_min['Neighbourhood'].nunique()"
   ]
  },
  {
   "cell_type": "markdown",
   "metadata": {
    "_cell_guid": "d39b960e-6915-4888-b410-433fc06b3b44",
    "_uuid": "61e2b3319a135ee1c0205e6e46680ee8bb94d80e"
   },
   "source": [
    "There are 66 neighbourhoods, which has the minimum number of no-shows which is 0 no-shows and they are as below."
   ]
  },
  {
   "cell_type": "code",
   "execution_count": null,
   "metadata": {
    "_cell_guid": "1911b992-639a-4554-ad73-a8894f63aea8",
    "_uuid": "6497558b1264839eadef3d4ca8a2917c8885e97a"
   },
   "outputs": [],
   "source": [
    "df_min['Neighbourhood'].unique()"
   ]
  },
  {
   "cell_type": "markdown",
   "metadata": {
    "_cell_guid": "3da257db-d550-4782-a929-b4eb29cf5e38",
    "_uuid": "7dfc7741d34c5c4adfce8fd747c346b784c746be"
   },
   "source": [
    "**Effect of Patient Variable**\n",
    "\n",
    "1) Which patient has the highest number of No-shows?\n",
    "2) Which patient has the lowest number of No-shows?"
   ]
  },
  {
   "cell_type": "code",
   "execution_count": null,
   "metadata": {
    "_cell_guid": "8ad31400-547a-4678-b5e7-c644531b05e2",
    "_uuid": "3757ed32097c8b688908c608acf9d7f4c59c23ed",
    "collapsed": true
   },
   "outputs": [],
   "source": [
    "df['Patient_noshows'] = df.groupby('PatientId')['No-show'].apply(lambda x : x.cumsum())"
   ]
  },
  {
   "cell_type": "code",
   "execution_count": null,
   "metadata": {
    "_cell_guid": "b4b54ac8-4679-4884-842f-df98b25cc72b",
    "_uuid": "dd77eea2939c040918c1886aafc5d3118cc25541"
   },
   "outputs": [],
   "source": [
    "df.head()"
   ]
  },
  {
   "cell_type": "code",
   "execution_count": null,
   "metadata": {
    "_cell_guid": "7034a9b3-6a2e-4290-8cb9-6937af1924ed",
    "_uuid": "2969b2dbe3efc75d977001d8deb5cd5bc508d3f4"
   },
   "outputs": [],
   "source": [
    " df.loc[df['Patient_noshows'] == df['Patient_noshows'].sort_values().max()]"
   ]
  },
  {
   "cell_type": "markdown",
   "metadata": {
    "_cell_guid": "04ff307a-511f-4630-9b93-f142bbf0203e",
    "_uuid": "47d3836055eaee6522e5b5a76055ca970327e0b5"
   },
   "source": [
    "So the Patient with the highest number of No-shows is PatientID : 1421986987763"
   ]
  },
  {
   "cell_type": "code",
   "execution_count": null,
   "metadata": {
    "_cell_guid": "de2f5e12-e167-407e-bfde-5cc6208fff4e",
    "_uuid": "470d1bd3f6f1aef64f2bb37412e139b664f4371c",
    "collapsed": true
   },
   "outputs": [],
   "source": [
    "df_pa_min =  df.loc[df['Patient_noshows'] == df['Patient_noshows'].sort_values().min()]"
   ]
  },
  {
   "cell_type": "code",
   "execution_count": null,
   "metadata": {
    "_cell_guid": "ffb27d41-5386-4910-a235-9af1d65aa54b",
    "_uuid": "dd4bd8ab2457ca4beef25713f449083bb18fefdd"
   },
   "outputs": [],
   "source": [
    "df_pa_min['PatientId'].nunique()"
   ]
  },
  {
   "cell_type": "markdown",
   "metadata": {
    "_cell_guid": "97c8a034-01c0-4b14-823c-af3fd1fcaa8a",
    "_uuid": "d3bbb9db3bc16a84deef177f07392e1305baa133"
   },
   "source": [
    "There are 50177 patients who had the minimum number of no-shows which is 0 no-shows so far."
   ]
  },
  {
   "cell_type": "markdown",
   "metadata": {
    "_cell_guid": "1d481b3d-6b03-436a-840f-15635317f3cd",
    "_uuid": "a6ee573f7e78c1ce257ecd1852d35157d68b7519"
   },
   "source": [
    "**Effect of the Age Variable**"
   ]
  },
  {
   "cell_type": "code",
   "execution_count": null,
   "metadata": {
    "_cell_guid": "e1c09ec4-ab87-4bea-928f-f1cff48b2cb0",
    "_uuid": "aaa4a119db202241aa0b0f871809131e1f77be7e"
   },
   "outputs": [],
   "source": [
    "df.describe()['Age']"
   ]
  },
  {
   "cell_type": "code",
   "execution_count": null,
   "metadata": {
    "_cell_guid": "0fd145a0-19ff-4662-bec2-ec622b635ab6",
    "_uuid": "5265d0c8e4c8967802b25926c51227704e5b3c72",
    "collapsed": true
   },
   "outputs": [],
   "source": [
    "bin_edges = [0,10,25,50,75,100]\n",
    "bin_names = ['Under-10','Between_10-25','Between_25-50','Between_50-75','Between_75-100']\n",
    "\n",
    "df['AgeGroup'] = pd.cut(df['Age'],bin_edges, labels = bin_names)"
   ]
  },
  {
   "cell_type": "code",
   "execution_count": null,
   "metadata": {
    "_cell_guid": "0406442d-d388-45b7-8af3-c4d161d88961",
    "_uuid": "cd92a108015a184401b90f8e83ea8647c09697b1"
   },
   "outputs": [],
   "source": [
    "df.head()"
   ]
  },
  {
   "cell_type": "markdown",
   "metadata": {
    "_cell_guid": "fab97c51-1480-4b9e-b9a1-813a6501cbd2",
    "_uuid": "5063924671e2120746ec76793757dea01088e1d7"
   },
   "source": [
    "1)Lets look at what percent of people Under 10 on an average, miss their appointments?\n",
    "\n",
    "2)Generally, which age-group tends to miss the most apppoinments?"
   ]
  },
  {
   "cell_type": "code",
   "execution_count": null,
   "metadata": {
    "_cell_guid": "898c8de3-8055-40c9-9b3a-648b47b6f75a",
    "_uuid": "d9769fd9a8ea0e0b7ee3dbdfd7c923d173f7e186",
    "collapsed": true
   },
   "outputs": [],
   "source": [
    "df['AgeGroup']  = pd.Categorical(df['AgeGroup'])\n",
    "\n",
    "AgeGrp = pd.get_dummies(df['AgeGroup'], prefix = 'AgeGroup')\n",
    "df = pd.concat([df, AgeGrp], axis=1)"
   ]
  },
  {
   "cell_type": "code",
   "execution_count": null,
   "metadata": {
    "_cell_guid": "ea6ae4a2-ac18-40d7-8876-ceccb0f2ec3b",
    "_uuid": "eb419197131364953afb815e5039dd0b49d78315"
   },
   "outputs": [],
   "source": [
    "df.head()"
   ]
  },
  {
   "cell_type": "code",
   "execution_count": null,
   "metadata": {
    "_cell_guid": "32904df1-7fa4-49c1-9943-aa97bd156ed2",
    "_uuid": "bb49b28db7fe2706cd55023ece40cf9610aca6cc"
   },
   "outputs": [],
   "source": [
    "age_categories = ['AgeGroup_Under-10','AgeGroup_Between_10-25','AgeGroup_Between_25-50','AgeGroup_Between_50-75','AgeGroup_Between_75-100']\n",
    "for a in age_categories:\n",
    "    print(df.groupby(a)['No-show'].mean())"
   ]
  },
  {
   "cell_type": "markdown",
   "metadata": {
    "_cell_guid": "446719da-bd42-4e6e-a3fe-ff0cde6db5cf",
    "_uuid": "23bbabcde60916537ad403ff187fcab4438efa4d"
   },
   "source": [
    "About 20% of the people in the Under_10 category did not show up to their appointments.\n",
    "\n",
    "So, here we can see that the least turn-up rate is in the Between 50-75 category, which shows that the people in this category turn up much less when compared to people in all other categories. "
   ]
  },
  {
   "cell_type": "markdown",
   "metadata": {
    "_cell_guid": "ff85b282-bf70-446b-9511-3ec27286e904",
    "_uuid": "0cfc82653afcc0ca8451ddd1ec4ec1d70415d258"
   },
   "source": [
    "**Effect of the Scheduled Day and Appointment Day variables**"
   ]
  },
  {
   "cell_type": "code",
   "execution_count": null,
   "metadata": {
    "_cell_guid": "955ab205-f041-4c8b-bb2f-0eaa354e42c9",
    "_uuid": "8b34ff706ffe26b6e2c5630aca95c736d2a87a57",
    "collapsed": true
   },
   "outputs": [],
   "source": [
    "df['Lagtime'] = df['ScheduledDay'].sub(df['AppointmentDay'], axis=0)"
   ]
  },
  {
   "cell_type": "code",
   "execution_count": null,
   "metadata": {
    "_cell_guid": "de41a3a5-8c9d-4803-a8aa-e3b153b93c2c",
    "_uuid": "048af724c343313e7013bee5171fd3e07f1757f5",
    "collapsed": true
   },
   "outputs": [],
   "source": [
    "df['Lagtime'] = (df[\"Lagtime\"] / np.timedelta64(1, 'D')).abs()"
   ]
  },
  {
   "cell_type": "code",
   "execution_count": null,
   "metadata": {
    "_cell_guid": "9a7f6467-06db-41bd-abb4-5dab6861061d",
    "_uuid": "21aa98c472538c270ea3075501e0f772b4184e78"
   },
   "outputs": [],
   "source": [
    "df['Lagtime'].min()"
   ]
  },
  {
   "cell_type": "code",
   "execution_count": null,
   "metadata": {
    "_cell_guid": "21690303-bb49-4afc-9d7f-a3d817048abf",
    "_uuid": "0a390018a9ece6e5c1febe13746f94ece47064dc"
   },
   "outputs": [],
   "source": [
    "df['Lagtime'].max()"
   ]
  },
  {
   "cell_type": "markdown",
   "metadata": {
    "_cell_guid": "e08a71ad-a312-4bc9-8d7a-22087045e534",
    "_uuid": "7639d053bd26d1f7fdea623ba862d2e2ba8a767b"
   },
   "source": [
    "Getting the lagtimes into Groups so that we can check which group has the highest number of no-shows.\n",
    "\n",
    "Here i am splitting the lagtimes into 6 different columns"
   ]
  },
  {
   "cell_type": "code",
   "execution_count": null,
   "metadata": {
    "_cell_guid": "38569dcd-dfac-4dfb-b81b-12b0c447763b",
    "_uuid": "db806a656429b2221a68ab1370a3e94f99d3f90a",
    "collapsed": true
   },
   "outputs": [],
   "source": [
    "bin_edges_lag = [0,1,7,15,30,100,150,180]\n",
    "bin_labels_lag = ['Within_a_day','Less_than_7_days','7-15_Days','15-30_Days','30-100_Days','100-150_Days','150-180_Days']"
   ]
  },
  {
   "cell_type": "code",
   "execution_count": null,
   "metadata": {
    "_cell_guid": "db1565f2-8204-4781-af81-4e7f71866a88",
    "_uuid": "6b8116c3e1ffb695b89faaa85270f9791aaa61b0",
    "collapsed": true
   },
   "outputs": [],
   "source": [
    "df['Ltime'] = pd.cut(df['Lagtime'], bin_edges_lag, labels = bin_labels_lag)"
   ]
  },
  {
   "cell_type": "code",
   "execution_count": null,
   "metadata": {
    "_cell_guid": "73488a72-a66f-4578-bd34-e42702de417d",
    "_uuid": "4575b5948b04ba0ee5811f79820e17df80b56487",
    "collapsed": true
   },
   "outputs": [],
   "source": [
    "df['Ltime'] = pd.Categorical(df['Ltime'])\n",
    "LagTime = pd.get_dummies(df['Ltime'], prefix = 'Ltime')\n",
    "df = pd.concat([df,LagTime], axis=1)"
   ]
  },
  {
   "cell_type": "code",
   "execution_count": null,
   "metadata": {
    "_cell_guid": "701dfc1e-89b5-40fd-9072-3eb20e754640",
    "_uuid": "ad25106bd6a8ad3a18ded80091dd57d70b0608e2"
   },
   "outputs": [],
   "source": [
    "l_var = ['Ltime_Within_a_day','Ltime_Less_than_7_days','Ltime_7-15_Days','Ltime_15-30_Days','Ltime_30-100_Days','Ltime_100-150_Days','Ltime_150-180_Days']\n",
    "for l in l_var:\n",
    "    print(df.groupby(l)['No-show'].mean())"
   ]
  },
  {
   "cell_type": "code",
   "execution_count": null,
   "metadata": {
    "_uuid": "21e82bdb8fffa48c2fce3b5524429e888f824b3b"
   },
   "outputs": [],
   "source": [
    "df.columns"
   ]
  },
  {
   "cell_type": "code",
   "execution_count": null,
   "metadata": {
    "_uuid": "367ee72877510bad1ee8fd48ea46b642c7e4b269",
    "collapsed": true
   },
   "outputs": [],
   "source": [
    "df = df.drop(['Neighbourhood','Handcap','PatientId','AppointmentID','ScheduledDay','AppointmentDay'], axis=1)"
   ]
  },
  {
   "cell_type": "code",
   "execution_count": null,
   "metadata": {
    "_uuid": "3dea4908a8fd9371f906750e2b39886e5962ff69"
   },
   "outputs": [],
   "source": [
    "df.columns"
   ]
  },
  {
   "cell_type": "markdown",
   "metadata": {
    "_cell_guid": "f1d9f4dc-d7ef-4044-aa30-a3e0fe868352",
    "_uuid": "b00d8089fdcdf109d9fe6cdb96d140b24a4f3342",
    "collapsed": true
   },
   "source": [
    "**Visualizations:**"
   ]
  },
  {
   "cell_type": "code",
   "execution_count": null,
   "metadata": {
    "_uuid": "bf78e730a73580a65053d3806c4f046bec2273a1",
    "collapsed": true
   },
   "outputs": [],
   "source": [
    "l_var = ['Ltime_Within_a_day','Ltime_Less_than_7_days','Ltime_7-15_Days','Ltime_15-30_Days','Ltime_30-100_Days','Ltime_100-150_Days','Ltime_150-180_Days']\n",
    "firstval = list()\n",
    "for l in l_var:\n",
    "    firstval.append(df.groupby(l)['No-show'].mean()[0])\n",
    "firstval = tuple(firstval)"
   ]
  },
  {
   "cell_type": "code",
   "execution_count": null,
   "metadata": {
    "_uuid": "ee92b2f750c37c60f541a22401db624465a2768c",
    "collapsed": true
   },
   "outputs": [],
   "source": [
    "l_var = ['Ltime_Within_a_day','Ltime_Less_than_7_days','Ltime_7-15_Days','Ltime_15-30_Days','Ltime_30-100_Days','Ltime_100-150_Days','Ltime_150-180_Days']\n",
    "secondval = list()\n",
    "for l in l_var:\n",
    "    secondval.append(df.groupby(l)['No-show'].mean()[1])\n",
    "secondval = tuple(secondval)"
   ]
  },
  {
   "cell_type": "markdown",
   "metadata": {
    "_uuid": "5c5dad0fd49fc346668116cbe8dc89da418351d6"
   },
   "source": [
    "**Visualizations**"
   ]
  },
  {
   "cell_type": "code",
   "execution_count": null,
   "metadata": {
    "_uuid": "0007f3b805a7486b578ab12680dd99b694399926",
    "collapsed": true
   },
   "outputs": [],
   "source": [
    "import matplotlib\n",
    "import matplotlib.pyplot as plt\n",
    "% matplotlib inline"
   ]
  },
  {
   "cell_type": "markdown",
   "metadata": {
    "_uuid": "9b504558e297579759ff6619bb954bc3eaf54afa"
   },
   "source": [
    "**Lagtime variable**"
   ]
  },
  {
   "cell_type": "code",
   "execution_count": null,
   "metadata": {
    "_uuid": "3e71b0817e07c5decabead9f347a099ed2e6e687"
   },
   "outputs": [],
   "source": [
    "N = 7\n",
    "ind = np.arange(N)\n",
    "width = 0.35\n",
    "fig,ax = plt.subplots()\n",
    "\n",
    "rects1 = ax.bar(ind, firstval, width, color='y')\n",
    "rects2 = ax.bar(ind+width,secondval, width, color='r' )\n",
    "\n",
    "ax.set_ylabel('No-show Rate')\n",
    "ax.set_title('No-Shows based on LagTime')\n",
    "ax.set_xticks(ind + width / 2)\n",
    "ax.set_xticklabels(('Ltime_Within_a_day','Ltime_Less_than_7_days', 'Ltime_7-15_Days', 'Ltime_15-30_Days', 'Ltime_30-100_Days', 'Ltime_100-150_Days','Ltime_150-180_Days'), rotation='vertical')\n",
    "\n",
    "ax.legend((rects1[0], rects2[0]), ('Not In', 'In'))\n",
    "plt.show()"
   ]
  },
  {
   "cell_type": "markdown",
   "metadata": {
    "_uuid": "f08a67f2ab87938ca3cf89b991598c094fccb0d0"
   },
   "source": [
    "Based on this graph, we can see that the people who scheduled the appointment on the same day, were most likelier to show up than the people who booked prior to their appointment day\n",
    "\n",
    "The number of people who show up seems to comparitively decrease as the number of days go up and after about a 100 days it has gone up very slightly.\n"
   ]
  },
  {
   "cell_type": "markdown",
   "metadata": {
    "_uuid": "97975b9ececb459075699f97afad086cf286f12a"
   },
   "source": [
    "**Handicap**"
   ]
  },
  {
   "cell_type": "code",
   "execution_count": null,
   "metadata": {
    "_uuid": "c3fe63692c6f642c3665be4ba652b7760a897684"
   },
   "outputs": [],
   "source": [
    "h_var = ['Handicap_0','Handicap_1','Handicap_2','Handicap_3','Handicap_4']\n",
    "h_showup = list()\n",
    "h_noshow = list()\n",
    "for h in h_var:\n",
    "    h_showup.append(df.groupby(h)['No-show'].mean()[0])\n",
    "    h_noshow.append(df.groupby(h)['No-show'].mean()[1])\n",
    "tuple(h_showup)\n",
    "tuple(h_noshow)\n",
    "\n"
   ]
  },
  {
   "cell_type": "code",
   "execution_count": null,
   "metadata": {
    "_uuid": "bd7d88f2524e88c3f9930d3ee6a045c46b9625f3"
   },
   "outputs": [],
   "source": [
    "N = 5\n",
    "ind = np.arange(N)\n",
    "width = 0.35\n",
    "fig,ax = plt.subplots()\n",
    "\n",
    "rects1 = ax.bar(ind, h_showup, width, color='y')\n",
    "rects2 = ax.bar(ind+width,h_noshow, width, color='r' )\n",
    "\n",
    "ax.set_ylabel('No-show Rate')\n",
    "ax.set_title('Average Handicap No-show Rate')\n",
    "ax.set_xticks(ind + width / 2)\n",
    "ax.set_xticklabels(('Handicap_0','Handicap_1', 'Handicap_2', 'Handicap_3', 'Handicap_4'), rotation='vertical')\n",
    "\n",
    "ax.legend((rects1[0], rects2[0]), ('Not Having', 'Having'))\n",
    "plt.show()"
   ]
  },
  {
   "cell_type": "markdown",
   "metadata": {
    "_uuid": "ed313385e931045c31e4ec40ec6329777b218e23"
   },
   "source": [
    "Based on the graph above, we can see that,  people in the  handicap_4 category are most likely to not turn up in comparision to the other categories."
   ]
  },
  {
   "cell_type": "markdown",
   "metadata": {
    "_uuid": "194cc2101ffa7d74723b6394c6f61288796da2ac"
   },
   "source": [
    "**AgeGroup**"
   ]
  },
  {
   "cell_type": "code",
   "execution_count": null,
   "metadata": {
    "_uuid": "dffb9f7416284987ba6d553dd1323ea016f1b802"
   },
   "outputs": [],
   "source": [
    "df['Age'].plot(kind='hist')"
   ]
  },
  {
   "cell_type": "code",
   "execution_count": null,
   "metadata": {
    "_uuid": "f2ea275aa24e8f7ec57ab9eeeec743fb9279ba8d"
   },
   "outputs": [],
   "source": [
    "a_var = ['AgeGroup_Under-10','AgeGroup_Between_10-25','AgeGroup_Between_25-50','AgeGroup_Between_50-75','AgeGroup_Between_75-100']\n",
    "\n",
    "a_showup = list()\n",
    "a_noshow = list()\n",
    "for a in a_var:\n",
    "    a_showup.append(df.groupby(a)['No-show'].mean()[0])\n",
    "    a_noshow.append(df.groupby(a)['No-show'].mean()[1])\n",
    "tuple(a_showup)\n",
    "tuple(a_noshow)\n",
    "\n",
    "\n"
   ]
  },
  {
   "cell_type": "code",
   "execution_count": null,
   "metadata": {
    "_uuid": "fd71d7cce820c9fb984654c4f06e56698950eb46"
   },
   "outputs": [],
   "source": [
    "N = 5\n",
    "ind = np.arange(N)\n",
    "width = 0.35\n",
    "fig,ax = plt.subplots()\n",
    "\n",
    "rects1 = ax.bar(ind, h_showup, width, color='y')\n",
    "rects2 = ax.bar(ind+width,h_noshow, width, color='r' )\n",
    "\n",
    "ax.set_ylabel('No-show Rate')\n",
    "ax.set_title('Average Handicap No-show Rate')\n",
    "ax.set_xticks(ind + width / 2)\n",
    "ax.set_xticklabels(('AgeGroup_Under-10','AgeGroup_Between_10-25','AgeGroup_Between_25-50','AgeGroup_Between_50-75','AgeGroup_Between_75-100'), rotation='vertical')\n",
    "\n",
    "ax.legend((rects1[0], rects2[0]), ('Not In', 'In'))\n",
    "plt.show()"
   ]
  },
  {
   "cell_type": "markdown",
   "metadata": {
    "_uuid": "83bd1dda037415d4d355016c917d82252937a526"
   },
   "source": [
    "**SMS received**"
   ]
  },
  {
   "cell_type": "code",
   "execution_count": null,
   "metadata": {
    "_uuid": "b761196a4a475d85940d7e28b06db485e610a79a",
    "collapsed": true
   },
   "outputs": [],
   "source": [
    "df['SMS_received'].replace(0,'Not Received', inplace=True)\n",
    "df['SMS_received'].replace(1,'Received',inplace=True)"
   ]
  },
  {
   "cell_type": "code",
   "execution_count": null,
   "metadata": {
    "_uuid": "e5ef39d15c551bc56cfca3df9035fc1c901285c8"
   },
   "outputs": [],
   "source": [
    "df.groupby('SMS_received')['No-show'].mean().plot(kind='bar')"
   ]
  },
  {
   "cell_type": "markdown",
   "metadata": {
    "_uuid": "3cba27351438ffaf24935a6acc9f4a0921bb4730"
   },
   "source": [
    "**Scholarship**"
   ]
  },
  {
   "cell_type": "code",
   "execution_count": null,
   "metadata": {
    "_uuid": "51ad5959038e5611d7ef1bfbf3cc9fa6b6aaba98",
    "collapsed": true
   },
   "outputs": [],
   "source": [
    "df['Scholarship'].replace(0,'Not Enrolled',inplace=True)\n",
    "df['Scholarship'].replace(1,'Enrolled',inplace=True)"
   ]
  },
  {
   "cell_type": "code",
   "execution_count": null,
   "metadata": {
    "_uuid": "ff9d593bf5a3ea6cd2de33b76bf8d556526bfbbc"
   },
   "outputs": [],
   "source": [
    "df.groupby('Scholarship')['No-show'].mean().plot(kind='bar')"
   ]
  },
  {
   "cell_type": "markdown",
   "metadata": {
    "_uuid": "ee740f38a95b8dd4df444f4575535a9ece71cf87"
   },
   "source": [
    "**Diabetes, Alcoholism, Hipertension**"
   ]
  },
  {
   "cell_type": "code",
   "execution_count": null,
   "metadata": {
    "_uuid": "74d87970ba0f5854affd42bdd3e7fce6f6f161ec"
   },
   "outputs": [],
   "source": [
    "n_var = ['Diabetes','Alcoholism','Hipertension']\n",
    "n_showup = list()\n",
    "n_noshow = list()\n",
    "for n in n_var:\n",
    "    n_showup.append(df.groupby(n)['No-show'].mean()[0])\n",
    "    n_noshow.append(df.groupby(n)['No-show'].mean()[1])\n",
    "tuple(n_showup)\n",
    "tuple(n_noshow)\n",
    "\n",
    "\n"
   ]
  },
  {
   "cell_type": "code",
   "execution_count": null,
   "metadata": {
    "_uuid": "3f922f064c7ad46c705a81e0378074b998f07dbb"
   },
   "outputs": [],
   "source": [
    "N = 3\n",
    "ind = np.arange(N)\n",
    "width = 0.35\n",
    "fig,ax = plt.subplots()\n",
    "\n",
    "rects1 = ax.bar(ind, n_showup, width, color='y')\n",
    "rects2 = ax.bar(ind+width,n_noshow, width, color='r' )\n",
    "\n",
    "ax.set_ylabel('No-show Rate')\n",
    "ax.set_title('Average No-show Rate across different categories')\n",
    "ax.set_xticks(ind + width / 2)\n",
    "ax.set_xticklabels(( 'Diabetes','Alcoholism', 'Hipertension'), rotation='vertical')\n",
    "\n",
    "ax.legend((rects1[0], rects2[0]), ('Not Having', 'Having'))\n",
    "plt.show()"
   ]
  },
  {
   "cell_type": "markdown",
   "metadata": {
    "_uuid": "4785a62644276983499230b3c8cd9d1596617117"
   },
   "source": [
    "**Gender**"
   ]
  },
  {
   "cell_type": "code",
   "execution_count": null,
   "metadata": {
    "_uuid": "426ed4a6fb0b33c1d36a57ba2c9675f0b4602f45"
   },
   "outputs": [],
   "source": [
    "df.groupby('Gender')['No-show'].mean().plot(kind='bar')"
   ]
  },
  {
   "cell_type": "markdown",
   "metadata": {
    "_uuid": "7de7a746683dabcbf08de6d5709260ac6d2e7c6e"
   },
   "source": [
    "Based on the graph above, we can see that the gender does not play much of an important rule in determining who will miss the most appointments, as both males and females have missed about 20% of their appointments."
   ]
  },
  {
   "cell_type": "markdown",
   "metadata": {
    "_uuid": "efc7ab38ae88931a51d7820d37fde3f6d3691ae9"
   },
   "source": [
    "**Conclusion**"
   ]
  },
  {
   "cell_type": "markdown",
   "metadata": {
    "_uuid": "d39a144c8417745ede62e6c87a22099d25750c96"
   },
   "source": [
    "So finally, based on the graphs and analysis above, we can see that the variables, Gender,Diabetes, Alcoholism donot play much of an important role in determining whether a patient is likely to turn up to their future appointments or not\n",
    "\n",
    "However, the variables:\n",
    "\n",
    "Handicap\n",
    "Age\n",
    "Lagtime\n",
    "Scholarship\n",
    "SMS_received\n",
    "\n",
    "do seem to play a critical role.\n",
    "\n",
    "People in Handicap_4 category seem to miss most of their appointments in comparision to the people in the other handicap categories on the whole.\n",
    "\n",
    "People in the Age Group 75-100 also seem to miss almost 10% of their appoinments more than the other people\n",
    "\n",
    "When it comes to the lagtime, people who booked the appointment the same day seem to make it to the appointment much better than the people who booked their appointments earlier by almost 20%\n",
    "\n",
    "People who did not receive SMS turned up better than the people who received the SMS by almost 11%\n",
    "\n",
    "People who have scholarship turned lesser than the people who do not have scholarship by almost 4%"
   ]
  }
 ],
 "metadata": {
  "kernelspec": {
   "display_name": "Python 3",
   "language": "python",
   "name": "python3"
  },
  "language_info": {
   "codemirror_mode": {
    "name": "ipython",
    "version": 3
   },
   "file_extension": ".py",
   "mimetype": "text/x-python",
   "name": "python",
   "nbconvert_exporter": "python",
   "pygments_lexer": "ipython3",
   "version": "3.6.2"
  }
 },
 "nbformat": 4,
 "nbformat_minor": 1
}
